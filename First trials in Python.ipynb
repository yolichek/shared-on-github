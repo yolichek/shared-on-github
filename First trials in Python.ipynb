{
 "cells": [
  {
   "cell_type": "code",
   "execution_count": 2,
   "metadata": {},
   "outputs": [
    {
     "name": "stdout",
     "output_type": "stream",
     "text": [
      "Hello world!\n"
     ]
    }
   ],
   "source": [
    "#this program prints \"Hello world!\"\n",
    "print('Hello world!')"
   ]
  },
  {
   "cell_type": "code",
   "execution_count": 6,
   "metadata": {},
   "outputs": [
    {
     "data": {
      "text/plain": [
       "(float, str, int)"
      ]
     },
     "execution_count": 6,
     "metadata": {},
     "output_type": "execute_result"
    }
   ],
   "source": [
    "# this code detects type of the number 11.22 and of string '11'\n",
    "type(11.22), type('11'), type(11)"
   ]
  },
  {
   "cell_type": "code",
   "execution_count": 2,
   "metadata": {},
   "outputs": [
    {
     "data": {
      "text/plain": [
       "(bool, 1, bool, 0)"
      ]
     },
     "execution_count": 2,
     "metadata": {},
     "output_type": "execute_result"
    }
   ],
   "source": [
    "#boolean type determination and casting\n",
    "type(True), int(True), type(False), int(False)"
   ]
  },
  {
   "cell_type": "code",
   "execution_count": 30,
   "metadata": {},
   "outputs": [
    {
     "data": {
      "text/plain": [
       "(5.0, 5, 5, 5.0, '5.0', True, False)"
      ]
     },
     "execution_count": 30,
     "metadata": {},
     "output_type": "execute_result"
    }
   ],
   "source": [
    "#division and type casting\n",
    "x=25/5\n",
    "y=0\n",
    "25/5,25//5, int(25/5), float(25//5), str(25/5), bool(x), bool(y)"
   ]
  },
  {
   "cell_type": "code",
   "execution_count": 32,
   "metadata": {},
   "outputs": [
    {
     "data": {
      "text/plain": [
       "(0, 1)"
      ]
     },
     "execution_count": 32,
     "metadata": {},
     "output_type": "execute_result"
    }
   ],
   "source": [
    "#mathematical function returns 1 if number equals 0 and returns 0 otherway\n",
    "x=25/5\n",
    "y=0\n",
    "int(1/(1+x*x)), int(1/(1+y*y))"
   ]
  },
  {
   "cell_type": "code",
   "execution_count": 65,
   "metadata": {},
   "outputs": [
    {
     "data": {
      "text/plain": [
       "['A', 'B', 'C', 'D']"
      ]
     },
     "execution_count": 65,
     "metadata": {},
     "output_type": "execute_result"
    }
   ],
   "source": [
    "'A,B,C,D'.split(',')"
   ]
  },
  {
   "cell_type": "code",
   "execution_count": 6,
   "metadata": {},
   "outputs": [
    {
     "name": "stdout",
     "output_type": "stream",
     "text": [
      "2.3666666666666667 or approximately 2 hours\n"
     ]
    }
   ],
   "source": [
    "#calculation of total duration in hours\n",
    "total_min=43+42+57\n",
    "total_hr=total_min/60\n",
    "print(total_hr,'or approximately', int(total_hr), 'hours')"
   ]
  },
  {
   "cell_type": "code",
   "execution_count": 33,
   "metadata": {},
   "outputs": [
    {
     "name": "stdout",
     "output_type": "stream",
     "text": [
      "Michael Jackson is the best\n"
     ]
    }
   ],
   "source": [
    "#string manipulations\n",
    "Name=\"Michael Jackson\"\n",
    "Name[0], Name[-1], Name[0:4], Name[0:8:2]\n",
    "len(Name)\n",
    "Statement=Name+\" is the best\"\n",
    "print(Statement)"
   ]
  },
  {
   "cell_type": "code",
   "execution_count": 36,
   "metadata": {},
   "outputs": [
    {
     "name": "stdout",
     "output_type": "stream",
     "text": [
      "Michael Jackson \n",
      " is the best\n",
      "Michael Jackson \t is the best\n",
      "Michael Jackson \\ is the best\n",
      "Michael Jackson \\ is the best\n"
     ]
    }
   ],
   "source": [
    "#printing strings options\n",
    "print('Michael Jackson \\n is the best')\n",
    "print('Michael Jackson \\t is the best')\n",
    "print('Michael Jackson \\\\ is the best')\n",
    "print(r'Michael Jackson \\ is the best')"
   ]
  },
  {
   "cell_type": "code",
   "execution_count": 43,
   "metadata": {},
   "outputs": [
    {
     "name": "stdout",
     "output_type": "stream",
     "text": [
      "MICHAEL JACKSON IS THE BEST\n",
      "michael jackson is the best\n",
      "Janet Jackson is the best\n",
      "8\n",
      "-1\n"
     ]
    }
   ],
   "source": [
    "#string manipulations\n",
    "A='Michael Jackson is the best'\n",
    "B=A.upper()\n",
    "C=B.lower()\n",
    "D=A.replace('Michael','Janet')\n",
    "jack_position=A.find('Jack')\n",
    "jacob_position=A.find('Jacob')\n",
    "print(B)\n",
    "print(C)\n",
    "print(D)\n",
    "print(jack_position)\n",
    "print(jacob_position)"
   ]
  },
  {
   "cell_type": "code",
   "execution_count": 2,
   "metadata": {},
   "outputs": [
    {
     "name": "stdout",
     "output_type": "stream",
     "text": [
      "<class 'tuple'>\n",
      "disco disco\n",
      "5 hard rock\n",
      "('disco', 10, 1.2, 'hard rock')\n"
     ]
    }
   ],
   "source": [
    "#tuples\n",
    "tuple1=('disco',10,1.2)\n",
    "tuple2=tuple1+('hard rock',11)\n",
    "print(type(tuple1))\n",
    "print(tuple1[0],tuple1[-3])\n",
    "print(len(tuple2),tuple2[3])\n",
    "print(tuple2[0:4])"
   ]
  },
  {
   "cell_type": "code",
   "execution_count": 60,
   "metadata": {},
   "outputs": [
    {
     "name": "stdout",
     "output_type": "stream",
     "text": [
      "['Michael Jackson', 10.1, 1982, ['pop', 10]]\n",
      "['Michael Jackson', 10.1, 1982, ['pop', 10], 'pop', 10]\n"
     ]
    }
   ],
   "source": [
    "#lists\n",
    "L=['Michael Jackson',10.1,1982]\n",
    "L.append(['pop',10])\n",
    "print(L)\n",
    "L.extend(['pop',10])\n",
    "print(L)\n",
    "L.append(['pop',10])"
   ]
  },
  {
   "cell_type": "code",
   "execution_count": 4,
   "metadata": {},
   "outputs": [
    {
     "name": "stdout",
     "output_type": "stream",
     "text": [
      "['hard rock', 10, 1.2]\n",
      "[10, 1.2]\n",
      "[10, 1.2, 'disco', 3.14]\n",
      "[10, 1.2, 'disco', 3.14, ['disco', 3.14]]\n"
     ]
    }
   ],
   "source": [
    "#lists are muttable - we can change them\n",
    "A=['disco',10,1.2]\n",
    "A[0]='hard rock'\n",
    "print(A)\n",
    "del(A[0])\n",
    "print(A)\n",
    "A.extend(['disco',3.14])\n",
    "print(A)\n",
    "A.append(['disco',3.14])\n",
    "print(A)\n"
   ]
  },
  {
   "cell_type": "code",
   "execution_count": 5,
   "metadata": {},
   "outputs": [
    {
     "data": {
      "text/plain": [
       "(['hard', 'rock'], ['A', 'B', 'C', 'D'])"
      ]
     },
     "execution_count": 5,
     "metadata": {},
     "output_type": "execute_result"
    }
   ],
   "source": [
    "#splitting\n",
    "'hard rock'.split(), 'A,B,C,D'.split(',')"
   ]
  },
  {
   "cell_type": "code",
   "execution_count": null,
   "metadata": {},
   "outputs": [],
   "source": []
  }
 ],
 "metadata": {
  "kernelspec": {
   "display_name": "Python 3",
   "language": "python",
   "name": "python3"
  },
  "language_info": {
   "codemirror_mode": {
    "name": "ipython",
    "version": 3
   },
   "file_extension": ".py",
   "mimetype": "text/x-python",
   "name": "python",
   "nbconvert_exporter": "python",
   "pygments_lexer": "ipython3",
   "version": "3.7.1"
  }
 },
 "nbformat": 4,
 "nbformat_minor": 2
}
