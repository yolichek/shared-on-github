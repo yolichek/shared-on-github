{
 "cells": [
  {
   "cell_type": "code",
   "execution_count": 12,
   "metadata": {},
   "outputs": [
    {
     "data": {
      "text/plain": [
       "tuple"
      ]
     },
     "execution_count": 12,
     "metadata": {},
     "output_type": "execute_result"
    }
   ],
   "source": [
    "# creating a tuple\n",
    "tuple1 = ('strong',11,11.11)\n",
    "type(tuple1)"
   ]
  },
  {
   "cell_type": "code",
   "execution_count": 11,
   "metadata": {},
   "outputs": [
    {
     "name": "stdout",
     "output_type": "stream",
     "text": [
      "strong\n",
      "<class 'str'>\n",
      "11\n",
      "<class 'int'>\n",
      "11.11\n",
      "<class 'float'>\n"
     ]
    }
   ],
   "source": [
    "# printing the variables and their types on each index\n",
    "print(tuple1[0])\n",
    "print(type(tuple1[-3]))\n",
    "print(tuple1[1])\n",
    "print(type(tuple1[-2]))\n",
    "print(tuple1[2])\n",
    "print(type(tuple1[-1]))"
   ]
  },
  {
   "cell_type": "code",
   "execution_count": 14,
   "metadata": {},
   "outputs": [
    {
     "name": "stdout",
     "output_type": "stream",
     "text": [
      "('strong', 11, 11.11, 'weak', -11)\n"
     ]
    }
   ],
   "source": [
    "# concatenate two tuples\n",
    "tuple2 = tuple1 + ('weak',-11)\n",
    "print(tuple2)"
   ]
  },
  {
   "cell_type": "code",
   "execution_count": 16,
   "metadata": {},
   "outputs": [
    {
     "data": {
      "text/plain": [
       "('strong', 11, 11.11)"
      ]
     },
     "execution_count": 16,
     "metadata": {},
     "output_type": "execute_result"
    }
   ],
   "source": [
    "# slicing from index 0 to index 3\n",
    "tuple2[0:3]"
   ]
  },
  {
   "cell_type": "code",
   "execution_count": 17,
   "metadata": {},
   "outputs": [
    {
     "data": {
      "text/plain": [
       "('weak', -11)"
      ]
     },
     "execution_count": 17,
     "metadata": {},
     "output_type": "execute_result"
    }
   ],
   "source": [
    "# slicing from index 3 to index 4\n",
    "tuple2[3:5]"
   ]
  },
  {
   "cell_type": "code",
   "execution_count": 18,
   "metadata": {},
   "outputs": [
    {
     "data": {
      "text/plain": [
       "5"
      ]
     },
     "execution_count": 18,
     "metadata": {},
     "output_type": "execute_result"
    }
   ],
   "source": [
    "# getting the length of tuple\n",
    "len(tuple2)"
   ]
  },
  {
   "cell_type": "code",
   "execution_count": 20,
   "metadata": {},
   "outputs": [
    {
     "data": {
      "text/plain": [
       "[0, 0, 1, 2, 3, 3, 4, 5, 6, 7, 7, 8, 8, 9]"
      ]
     },
     "execution_count": 20,
     "metadata": {},
     "output_type": "execute_result"
    }
   ],
   "source": [
    "# sorting a sample tuple\n",
    "Results = (1,3,0,7,8,5,7,3,9,4,8,2,0,6)\n",
    "ResultsSorted = sorted(Results)\n",
    "ResultsSorted"
   ]
  },
  {
   "cell_type": "code",
   "execution_count": 24,
   "metadata": {},
   "outputs": [
    {
     "name": "stdout",
     "output_type": "stream",
     "text": [
      "Element 0 of Tuple:  1\n",
      "Element 1 of Tuple:  2\n",
      "Element 2 of Tuple:  ('red', 'orange')\n",
      "Element 3 of Tuple:  (3, 4)\n",
      "Element 4 of Tuple:  ('yellow', (5, 6))\n"
     ]
    }
   ],
   "source": [
    "# creating a nested tuple and printing its elements\n",
    "NestedTuple = (1,2,('red','orange'),(3,4),('yellow',(5,6)))\n",
    "print(\"Element 0 of Tuple: \", NestedTuple[0])\n",
    "print(\"Element 1 of Tuple: \", NestedTuple[1])\n",
    "print(\"Element 2 of Tuple: \", NestedTuple[2])\n",
    "print(\"Element 3 of Tuple: \", NestedTuple[3])\n",
    "print(\"Element 4 of Tuple: \", NestedTuple[4])"
   ]
  },
  {
   "cell_type": "code",
   "execution_count": 25,
   "metadata": {},
   "outputs": [
    {
     "name": "stdout",
     "output_type": "stream",
     "text": [
      "('red', 'orange') (3, 4) orange n\n"
     ]
    }
   ],
   "source": [
    "# printing elements of nested tuple\n",
    "\n",
    "print(NestedTuple[2],NestedTuple[3],NestedTuple[2][1],NestedTuple[2][1][3])"
   ]
  },
  {
   "cell_type": "code",
   "execution_count": 30,
   "metadata": {},
   "outputs": [
    {
     "data": {
      "text/plain": [
       "list"
      ]
     },
     "execution_count": 30,
     "metadata": {},
     "output_type": "execute_result"
    }
   ],
   "source": [
    "# creating a list\n",
    "list1 = ['strong',10,10.11]\n",
    "type(list1)"
   ]
  },
  {
   "cell_type": "code",
   "execution_count": 31,
   "metadata": {},
   "outputs": [
    {
     "name": "stdout",
     "output_type": "stream",
     "text": [
      "['strong', 10, 10.11, ['negative', -11]]\n",
      "['strong', 10, 10.11, ['negative', -11], 'negative', -11]\n"
     ]
    }
   ],
   "source": [
    "# usage of append and extend \n",
    "list1.append(['negative',-11])\n",
    "print(list1)\n",
    "list1.extend(['negative',-11])\n",
    "print(list1)"
   ]
  },
  {
   "cell_type": "code",
   "execution_count": 41,
   "metadata": {},
   "outputs": [
    {
     "name": "stdout",
     "output_type": "stream",
     "text": [
      "Before change: [['positively', 'charged'], 'proton', 1]\n",
      "After change: [['negatively', 'charged'], 'proton', -1]\n",
      "After deleting: [['charged'], 'proton', -1]\n"
     ]
    }
   ],
   "source": [
    "# changing and deleting elements of the list\n",
    "ListA = [['positively','charged'],'proton',1]\n",
    "print('Before change:', ListA)\n",
    "ListA[0][0] = 'negatively'\n",
    "ListA[2] = -1\n",
    "print('After change:', ListA)\n",
    "del(ListA[0][0])\n",
    "print('After deleting:', ListA)"
   ]
  },
  {
   "cell_type": "code",
   "execution_count": 42,
   "metadata": {},
   "outputs": [
    {
     "data": {
      "text/plain": [
       "['general', 'electrics']"
      ]
     },
     "execution_count": 42,
     "metadata": {},
     "output_type": "execute_result"
    }
   ],
   "source": [
    "# splitting the list\n",
    "'general electrics'.split()"
   ]
  },
  {
   "cell_type": "code",
   "execution_count": 43,
   "metadata": {},
   "outputs": [
    {
     "data": {
      "text/plain": [
       "['g', 'n', 'ral ', 'l', 'ctrics']"
      ]
     },
     "execution_count": 43,
     "metadata": {},
     "output_type": "execute_result"
    }
   ],
   "source": [
    "# splitting the list separated by 'e'\n",
    "'general electrics'.split('e')"
   ]
  },
  {
   "cell_type": "code",
   "execution_count": 44,
   "metadata": {},
   "outputs": [
    {
     "name": "stdout",
     "output_type": "stream",
     "text": [
      "['blue violet', 13, [1, 3]]\n",
      "['red orange', 13, [1, 3]]\n"
     ]
    }
   ],
   "source": [
    "# copy by reference and clone by value\n",
    "A = ['red orange',13,[1,3]]\n",
    "CopiedA = A\n",
    "ClonedA = A[:]\n",
    "A[0] = 'blue violet'\n",
    "print(CopiedA)\n",
    "print(ClonedA)"
   ]
  },
  {
   "cell_type": "code",
   "execution_count": null,
   "metadata": {},
   "outputs": [],
   "source": []
  }
 ],
 "metadata": {
  "kernelspec": {
   "display_name": "Python 3",
   "language": "python",
   "name": "python3"
  },
  "language_info": {
   "codemirror_mode": {
    "name": "ipython",
    "version": 3
   },
   "file_extension": ".py",
   "mimetype": "text/x-python",
   "name": "python",
   "nbconvert_exporter": "python",
   "pygments_lexer": "ipython3",
   "version": "3.7.1"
  }
 },
 "nbformat": 4,
 "nbformat_minor": 2
}
