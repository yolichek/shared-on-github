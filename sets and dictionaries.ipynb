{
 "cells": [
  {
   "cell_type": "code",
   "execution_count": 8,
   "metadata": {},
   "outputs": [
    {
     "name": "stdout",
     "output_type": "stream",
     "text": [
      "{'EE82EE', 'blue', 'violet', 'orchid', (255, 0, 255), 'purple'}\n"
     ]
    }
   ],
   "source": [
    "# creating set\n",
    "Set1 = {'violet','blue',(255,0,255),'purple','orchid','EE82EE','blue'}\n",
    "print(Set1)"
   ]
  },
  {
   "cell_type": "code",
   "execution_count": 10,
   "metadata": {},
   "outputs": [
    {
     "name": "stdout",
     "output_type": "stream",
     "text": [
      "{'EE82EE', 'blue', 'violet', 'orchid', (255, 0, 255), 'purple'}\n"
     ]
    }
   ],
   "source": [
    "# converting list into a set\n",
    "L1 = ['violet','blue',(255,0,255),'purple','orchid','EE82EE','purple']\n",
    "Set1 = set(L1)\n",
    "print(Set1)"
   ]
  },
  {
   "cell_type": "code",
   "execution_count": 13,
   "metadata": {},
   "outputs": [
    {
     "name": "stdout",
     "output_type": "stream",
     "text": [
      "{'purple', 'blue', 'violet', 'orchid'}\n",
      "{'purple', 'violet', 'orchid'}\n"
     ]
    }
   ],
   "source": [
    "# set operations - adding or removing elements\n",
    "A = {'blue','violet','orchid'}\n",
    "A.add('purple')\n",
    "print(A)\n",
    "A.remove('blue')\n",
    "print(A)"
   ]
  },
  {
   "cell_type": "code",
   "execution_count": 19,
   "metadata": {},
   "outputs": [
    {
     "name": "stdout",
     "output_type": "stream",
     "text": [
      "False True\n"
     ]
    }
   ],
   "source": [
    "# set operations - verify if the element is in the set\n",
    "B = {'blue','magenta','red','orange','violet'}\n",
    "print('yellow' in B,'red' in B)"
   ]
  },
  {
   "cell_type": "code",
   "execution_count": 25,
   "metadata": {},
   "outputs": [
    {
     "name": "stdout",
     "output_type": "stream",
     "text": [
      "{'blue', 'violet'} {'blue', 'violet', 'magenta', 'orchid', 'orange', 'red'} {'red', 'magenta', 'orange'}\n"
     ]
    }
   ],
   "source": [
    "# set operations - intersection difference and union\n",
    "A = {'blue','violet','orchid'}\n",
    "B = {'blue','magenta','red','orange','violet'}\n",
    "#intersection\n",
    "AcapB = A & B\n",
    "#union\n",
    "AcupB = A.union(B)\n",
    "#difference\n",
    "BsetminusA = B.difference(A)\n",
    "print(AcapB,AcupB,BsetminusA)"
   ]
  },
  {
   "cell_type": "code",
   "execution_count": 22,
   "metadata": {},
   "outputs": [
    {
     "name": "stdout",
     "output_type": "stream",
     "text": [
      "True True\n"
     ]
    }
   ],
   "source": [
    "# set operations - sub/super set check\n",
    "A = {'blue','violet'}\n",
    "B = {'blue','magenta','red','orange','violet'}\n",
    "print(A.issubset(B), B.issuperset(A))"
   ]
  },
  {
   "cell_type": "code",
   "execution_count": null,
   "metadata": {},
   "outputs": [],
   "source": []
  }
 ],
 "metadata": {
  "kernelspec": {
   "display_name": "Python 3",
   "language": "python",
   "name": "python3"
  },
  "language_info": {
   "codemirror_mode": {
    "name": "ipython",
    "version": 3
   },
   "file_extension": ".py",
   "mimetype": "text/x-python",
   "name": "python",
   "nbconvert_exporter": "python",
   "pygments_lexer": "ipython3",
   "version": "3.7.1"
  }
 },
 "nbformat": 4,
 "nbformat_minor": 2
}
